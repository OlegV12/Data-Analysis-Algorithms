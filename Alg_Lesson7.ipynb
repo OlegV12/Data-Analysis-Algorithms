{
  "nbformat": 4,
  "nbformat_minor": 0,
  "metadata": {
    "colab": {
      "name": "Alg_Lesson7.ipynb",
      "provenance": [],
      "collapsed_sections": [],
      "authorship_tag": "ABX9TyN6rTkTUYhHRMTwxIJ+wB8u",
      "include_colab_link": true
    },
    "kernelspec": {
      "display_name": "Python 3",
      "name": "python3"
    },
    "language_info": {
      "name": "python"
    }
  },
  "cells": [
    {
      "cell_type": "markdown",
      "metadata": {
        "id": "view-in-github",
        "colab_type": "text"
      },
      "source": [
        "<a href=\"https://colab.research.google.com/github/OlegV12/Data-Analysis-Algorithms/blob/Lesson_7/Alg_Lesson7.ipynb\" target=\"_parent\"><img src=\"https://colab.research.google.com/assets/colab-badge.svg\" alt=\"Open In Colab\"/></a>"
      ]
    },
    {
      "cell_type": "code",
      "metadata": {
        "id": "htVgj_rG6tSG"
      },
      "source": [
        "import numpy as np\n",
        "import matplotlib.pyplot as plt\n",
        "from sklearn import datasets\n",
        "import pandas as pd\n",
        "from matplotlib.colors import ListedColormap\n",
        "from sklearn.tree import DecisionTreeRegressor\n",
        "from sklearn.datasets import load_diabetes\n",
        "from sklearn.datasets import load_iris, load_wine\n",
        "from sklearn import model_selection\n",
        "import random\n",
        "from matplotlib.colors import ListedColormap"
      ],
      "execution_count": 45,
      "outputs": []
    },
    {
      "cell_type": "markdown",
      "metadata": {
        "id": "8bJHhabHHYAY"
      },
      "source": [
        "К алгоритму kNN, реализованному на уроке, реализовать добавление весов для соседей в зависимости от номера соседа."
      ]
    },
    {
      "cell_type": "code",
      "metadata": {
        "id": "_49Y22E9uf-C"
      },
      "source": [
        "X, y = load_iris(return_X_y=True)\n",
        "\n",
        "# Для наглядности возьмем только первые два признака (всего в датасете их 4)\n",
        "X = X[:, :2]"
      ],
      "execution_count": 46,
      "outputs": []
    },
    {
      "cell_type": "code",
      "metadata": {
        "id": "ACYClLghuf-F"
      },
      "source": [
        "X_train, X_test, y_train, y_test = model_selection.train_test_split(X, y, test_size=0.2, random_state=1)"
      ],
      "execution_count": 47,
      "outputs": []
    },
    {
      "cell_type": "code",
      "metadata": {
        "colab": {
          "base_uri": "https://localhost:8080/",
          "height": 447
        },
        "id": "RvU1ranP7IPm",
        "outputId": "996b7549-af57-4dca-f990-ed509368f209"
      },
      "source": [
        "cmap = ListedColormap(['red', 'green', 'blue'])\n",
        "plt.figure(figsize=(7, 7))\n",
        "plt.scatter(X[:, 0], X[:, 1], c=y, cmap=cmap)"
      ],
      "execution_count": 48,
      "outputs": [
        {
          "output_type": "execute_result",
          "data": {
            "text/plain": [
              "<matplotlib.collections.PathCollection at 0x7f1eb72d3450>"
            ]
          },
          "metadata": {},
          "execution_count": 48
        },
        {
          "output_type": "display_data",
          "data": {
            "image/png": "[encoded data removed]",
            "text/plain": [
              "<Figure size 504x504 with 1 Axes>"
            ]
          },
          "metadata": {
            "needs_background": "light"
          }
        }
      ]
    },
    {
      "cell_type": "code",
      "metadata": {
        "id": "MKipIKeGuf-P"
      },
      "source": [
        "def e_metrics(x1, x2):\n",
        "    \n",
        "    distance = 0\n",
        "    for i in range(len(x1)):\n",
        "        distance += np.square(x1[i] - x2[i])\n",
        "      \n",
        "    return np.sqrt(distance)"
      ],
      "execution_count": 49,
      "outputs": []
    },
    {
      "cell_type": "code",
      "metadata": {
        "id": "BvkzNGnvD19I"
      },
      "source": [
        "def knn(x_train, y_train, x_test, k):\n",
        "    \n",
        "    answers = []\n",
        "    for x in x_test:\n",
        "        test_distances = []\n",
        "            \n",
        "        for i in range(len(x_train)):\n",
        "            \n",
        "            # расчет расстояния от классифицируемого объекта до\n",
        "            # объекта обучающей выборки\n",
        "            distance = e_metrics(x, x_train[i])\n",
        "            \n",
        "            # Записываем в список значение расстояния и ответа на объекте обучающей выборки\n",
        "            test_distances.append((distance, y_train[i]))\n",
        "        \n",
        "        # создаем словарь со всеми возможными классами\n",
        "        classes = {class_item: 0 for class_item in set(y_train)}\n",
        "        \n",
        "        # Сортируем список и среди первых k элементов подсчитаем частоту появления разных классов\n",
        "        for d in sorted(test_distances)[0:k]:\n",
        "            classes[d[1]] += 1\n",
        "            \n",
        "        # Записываем в список ответов наиболее часто встречающийся класс\n",
        "        answers.append(sorted(classes, key=classes.get)[-1])\n",
        "    \n",
        "    return answers"
      ],
      "execution_count": 50,
      "outputs": []
    },
    {
      "cell_type": "code",
      "metadata": {
        "id": "eK2Bn_7ouf-Y"
      },
      "source": [
        "def accuracy(pred, y):\n",
        "    return (sum(pred == y) / len(y))"
      ],
      "execution_count": 51,
      "outputs": []
    },
    {
      "cell_type": "code",
      "metadata": {
        "id": "vN4DDyMauf-e"
      },
      "source": [
        "def get_graph(X_train, y_train, k, knn):\n",
        "    cmap_light = ListedColormap(['#FFAAAA', '#AAFFAA','#00AAFF'])\n",
        "\n",
        "    h = .02\n",
        "\n",
        "    # Расчет пределов графика\n",
        "    x_min, x_max = X_train[:, 0].min() - 1, X_train[:, 0].max() + 1\n",
        "    y_min, y_max = X_train[:, 1].min() - 1, X_train[:, 1].max() + 1\n",
        "    xx, yy = np.meshgrid(np.arange(x_min, x_max, h), np.arange(y_min, y_max, h))\n",
        "\n",
        "    # Получим предсказания для всех точек\n",
        "    Z = knn(X_train, y_train, np.c_[xx.ravel(), yy.ravel()], k)\n",
        "\n",
        "    # Построим график\n",
        "    Z = np.array(Z).reshape(xx.shape)\n",
        "    plt.figure(figsize=(7,7))\n",
        "    plt.pcolormesh(xx, yy, Z, cmap=cmap_light)\n",
        "\n",
        "    # Добавим на график обучающую выборку\n",
        "    plt.scatter(X_train[:, 0], X_train[:, 1], c=y_train, cmap=cmap)\n",
        "    plt.xlim(xx.min(), xx.max())\n",
        "    plt.ylim(yy.min(), yy.max())\n",
        "    plt.title(f\"Трехклассовая kNN классификация при k = {k}\")\n",
        "    plt.show()"
      ],
      "execution_count": 52,
      "outputs": []
    },
    {
      "cell_type": "code",
      "metadata": {
        "id": "8wNkiSf8EMkQ"
      },
      "source": [
        "k = [1, 3, 5, 10]\n",
        "no_weight_acc = []\n",
        "for spam in k:\n",
        "    y_pred = knn(X_train, y_train, X_test, spam)\n",
        "    no_weight_acc.append(accuracy(y_pred, y_test))"
      ],
      "execution_count": 53,
      "outputs": []
    },
    {
      "cell_type": "code",
      "metadata": {
        "colab": {
          "base_uri": "https://localhost:8080/"
        },
        "id": "ZkA5XsqtF4kw",
        "outputId": "be0c649c-75bc-4f8f-b46f-422d8b9edafd"
      },
      "source": [
        "no_weight_acc"
      ],
      "execution_count": 54,
      "outputs": [
        {
          "output_type": "execute_result",
          "data": {
            "text/plain": [
              "[0.6666666666666666,\n",
              " 0.7333333333333333,\n",
              " 0.8666666666666667,\n",
              " 0.8333333333333334]"
            ]
          },
          "metadata": {},
          "execution_count": 54
        }
      ]
    },
    {
      "cell_type": "code",
      "metadata": {
        "colab": {
          "base_uri": "https://localhost:8080/",
          "height": 444
        },
        "id": "nzna0yzRVeol",
        "outputId": "9b46dd10-f8e2-4282-b85c-c45b2841160e"
      },
      "source": [
        "get_graph(X_train, y_train, 5, knn)"
      ],
      "execution_count": 55,
      "outputs": [
        {
          "output_type": "display_data",
          "data": {
            "image/png": "[encoded data removed]",
            "text/plain": [
              "<Figure size 504x504 with 1 Axes>"
            ]
          },
          "metadata": {
            "needs_background": "light"
          }
        }
      ]
    },
    {
      "cell_type": "code",
      "metadata": {
        "id": "LIKuDr9huf-V"
      },
      "source": [
        "def weighted_num_knn(x_train, y_train, x_test, k):\n",
        "    \n",
        "    answers = []\n",
        "    for x in x_test:\n",
        "        test_distances = []\n",
        "            \n",
        "        for i in range(len(x_train)):\n",
        "            \n",
        "            # расчет расстояния от классифицируемого объекта до\n",
        "            # объекта обучающей выборки\n",
        "            distance = e_metrics(x, x_train[i])\n",
        "            \n",
        "            # Записываем в список значение расстояния и ответа на объекте обучающей выборки\n",
        "            test_distances.append((distance, y_train[i]))\n",
        "        \n",
        "        # создаем словарь со всеми возможными классами\n",
        "        classes = {class_item: 1 for class_item in set(y_train)}\n",
        "        \n",
        "        # Сортируем список и среди первых k элементов подсчитаем частоту появления разных классов\n",
        "        for ind, d  in enumerate(sorted(test_distances)[0:k], start=1):\n",
        "\n",
        "            classes[d[1]] += (1/ind)\n",
        "            \n",
        "        # Записываем в список ответов наиболее часто встречающийся класс\n",
        "        answers.append(sorted(classes, key=classes.get)[-1])\n",
        "\n",
        "    return answers"
      ],
      "execution_count": 56,
      "outputs": []
    },
    {
      "cell_type": "code",
      "metadata": {
        "id": "4rOmlEJ-GXS1"
      },
      "source": [
        "k = [1, 3, 5, 10,]\n",
        "weighted_num_acc = []\n",
        "for spam in k:\n",
        "    y_pred = weighted_num_knn(X_train, y_train, X_test, spam)\n",
        "    weighted_num_acc.append(accuracy(y_pred, y_test))"
      ],
      "execution_count": 57,
      "outputs": []
    },
    {
      "cell_type": "code",
      "metadata": {
        "colab": {
          "base_uri": "https://localhost:8080/"
        },
        "id": "vHDlUbVRGiAt",
        "outputId": "23d8bc2a-442c-4caf-d960-7e6903a53e07"
      },
      "source": [
        "weighted_num_acc"
      ],
      "execution_count": 58,
      "outputs": [
        {
          "output_type": "execute_result",
          "data": {
            "text/plain": [
              "[0.6666666666666666,\n",
              " 0.6666666666666666,\n",
              " 0.7333333333333333,\n",
              " 0.7666666666666667]"
            ]
          },
          "metadata": {},
          "execution_count": 58
        }
      ]
    },
    {
      "cell_type": "code",
      "metadata": {
        "colab": {
          "base_uri": "https://localhost:8080/",
          "height": 444
        },
        "id": "2OiVIWhDVdaI",
        "outputId": "140c7446-e111-40ee-d5e4-0e7480552690"
      },
      "source": [
        "get_graph(X_train, y_train, 10, weighted_num_knn)"
      ],
      "execution_count": 59,
      "outputs": [
        {
          "output_type": "display_data",
          "data": {
            "image/png": "[encoded data removed]",
            "text/plain": [
              "<Figure size 504x504 with 1 Axes>"
            ]
          },
          "metadata": {
            "needs_background": "light"
          }
        }
      ]
    },
    {
      "cell_type": "markdown",
      "metadata": {
        "id": "aMo8dSx0qiFt"
      },
      "source": [
        "К алгоритму kNN, реализованному на уроке, реализовать добавление весов для соседей в зависимости от расстояния до соседа. Сравнить метрики качества и сложность разделяющей гиперплоскости. Сделать выводы."
      ]
    },
    {
      "cell_type": "code",
      "metadata": {
        "id": "iVvQtGZqJIIL"
      },
      "source": [
        "def weighted_dist_knn(x_train, y_train, x_test, k):\n",
        "    \n",
        "    answers = []\n",
        "    for x in x_test:\n",
        "        test_distances = []\n",
        "            \n",
        "        for i in range(len(x_train)):\n",
        "            \n",
        "            # расчет расстояния от классифицируемого объекта до\n",
        "            # объекта обучающей выборки\n",
        "            distance = e_metrics(x, x_train[i])\n",
        "            \n",
        "            # Записываем в список значение расстояния и ответа на объекте обучающей выборки\n",
        "            test_distances.append((distance, y_train[i]))\n",
        "        \n",
        "        # создаем словарь со всеми возможными классами\n",
        "        classes = {class_item: 0 for class_item in set(y_train)}\n",
        "        \n",
        "        # Сортируем список и среди первых k элементов подсчитаем частоту появления разных классов\n",
        "        for ind, d  in enumerate(sorted(test_distances)[0:k], start=1):\n",
        "\n",
        "            classes[d[1]] += (0.9**d[0])\n",
        " \n",
        "        # Записываем в список ответов наиболее часто встречающийся класс\n",
        "        answers.append(sorted(classes, key=classes.get)[-1])\n",
        "    \n",
        "    return answers"
      ],
      "execution_count": 60,
      "outputs": []
    },
    {
      "cell_type": "code",
      "metadata": {
        "id": "vQEUiuORQf40"
      },
      "source": [
        "k = [1, 3, 5, 10,]\n",
        "weighted_dist_acc = []\n",
        "for spam in k:\n",
        "    y_pred = weighted_dist_knn(X_train, y_train, X_test, spam)\n",
        "    weighted_dist_acc.append(accuracy(y_pred, y_test))"
      ],
      "execution_count": 61,
      "outputs": []
    },
    {
      "cell_type": "code",
      "metadata": {
        "colab": {
          "base_uri": "https://localhost:8080/"
        },
        "id": "Zdr0zt2jQwju",
        "outputId": "db5bd3bc-c8d9-40c0-86fc-b053aa57a87d"
      },
      "source": [
        "weighted_dist_acc"
      ],
      "execution_count": 62,
      "outputs": [
        {
          "output_type": "execute_result",
          "data": {
            "text/plain": [
              "[0.6666666666666666,\n",
              " 0.7333333333333333,\n",
              " 0.8666666666666667,\n",
              " 0.8666666666666667]"
            ]
          },
          "metadata": {},
          "execution_count": 62
        }
      ]
    },
    {
      "cell_type": "code",
      "metadata": {
        "colab": {
          "base_uri": "https://localhost:8080/",
          "height": 444
        },
        "id": "eUkp5zcAVa6E",
        "outputId": "ca36e097-7c60-49f7-efa4-eeb478e2cc75"
      },
      "source": [
        "get_graph(X_train, y_train, 10, weighted_dist_knn)"
      ],
      "execution_count": 63,
      "outputs": [
        {
          "output_type": "display_data",
          "data": {
            "image/png": "[encoded data removed]",
            "text/plain": [
              "<Figure size 504x504 with 1 Axes>"
            ]
          },
          "metadata": {
            "needs_background": "light"
          }
        }
      ]
    },
    {
      "cell_type": "markdown",
      "metadata": {
        "id": "KS_PtROpawnJ"
      },
      "source": [
        "Разделяющая гиперплоскость самая простая при реализации взвешивания растояний и при обычной реализации. "
      ]
    },
    {
      "cell_type": "code",
      "metadata": {
        "id": "WFGXeIVrSx6o"
      },
      "source": [
        "# сравним показатели accuracy для разных реализаций\n",
        "accuracy_list = np.array([no_weight_acc, weighted_num_acc, weighted_dist_acc])\n"
      ],
      "execution_count": 64,
      "outputs": []
    },
    {
      "cell_type": "code",
      "metadata": {
        "colab": {
          "base_uri": "https://localhost:8080/"
        },
        "id": "PPJjrwSxZkX1",
        "outputId": "30c0c32c-ed55-4aaa-ae0c-18d623dd33c0"
      },
      "source": [
        "accuracy_list.T"
      ],
      "execution_count": 65,
      "outputs": [
        {
          "output_type": "execute_result",
          "data": {
            "text/plain": [
              "array([[0.66666667, 0.66666667, 0.66666667],\n",
              "       [0.73333333, 0.66666667, 0.73333333],\n",
              "       [0.86666667, 0.73333333, 0.86666667],\n",
              "       [0.83333333, 0.76666667, 0.86666667]])"
            ]
          },
          "metadata": {},
          "execution_count": 65
        }
      ]
    },
    {
      "cell_type": "markdown",
      "metadata": {
        "id": "bkNZwYdjest6"
      },
      "source": [
        "Если реалзация верна, то в целом взвешивание расстояний дает лучшие показатели accuracy."
      ]
    },
    {
      "cell_type": "markdown",
      "metadata": {
        "id": "bClnchf1gu3E"
      },
      "source": [
        "Настроить оптимальное значение числа соседей для моделей из п.1 и п.2, сделать выводы. "
      ]
    },
    {
      "cell_type": "code",
      "metadata": {
        "colab": {
          "base_uri": "https://localhost:8080/"
        },
        "id": "ayZykDKdhYlL",
        "outputId": "db7600d4-9fdf-4103-96bc-8185e749e4e2"
      },
      "source": [
        "y_pred = weighted_num_knn(X_train, y_train, X_test, 8)\n",
        "round(accuracy(y_pred, y_test), 2)"
      ],
      "execution_count": 66,
      "outputs": [
        {
          "output_type": "execute_result",
          "data": {
            "text/plain": [
              "0.77"
            ]
          },
          "metadata": {},
          "execution_count": 66
        }
      ]
    },
    {
      "cell_type": "code",
      "metadata": {
        "colab": {
          "base_uri": "https://localhost:8080/"
        },
        "id": "RLPChjBBhoK-",
        "outputId": "1bc9ad6b-d0ca-45f5-dd54-cdaee74ec04c"
      },
      "source": [
        "y_pred = weighted_dist_knn(X_train, y_train, X_test, 5)\n",
        "round(accuracy(y_pred, y_test), 2)"
      ],
      "execution_count": 67,
      "outputs": [
        {
          "output_type": "execute_result",
          "data": {
            "text/plain": [
              "0.87"
            ]
          },
          "metadata": {},
          "execution_count": 67
        }
      ]
    },
    {
      "cell_type": "markdown",
      "metadata": {
        "id": "MYEe5n8Tj9-0"
      },
      "source": [
        "Подобрав гиперпараметр k, можно достичь accuracy 0.87 при реализации взвешивания расстояний.  Хотел бы проверить так ли это на другом датасете. "
      ]
    },
    {
      "cell_type": "code",
      "metadata": {
        "id": "1aeGsWc4Zkoc"
      },
      "source": [
        "X, y = load_wine(return_X_y=True)"
      ],
      "execution_count": 68,
      "outputs": []
    },
    {
      "cell_type": "code",
      "metadata": {
        "id": "wkycBFjeZkoe"
      },
      "source": [
        "X_train, X_test, y_train, y_test = model_selection.train_test_split(X, y, test_size=0.3, random_state=1)"
      ],
      "execution_count": 69,
      "outputs": []
    },
    {
      "cell_type": "code",
      "metadata": {
        "id": "c31pGinBZv4I"
      },
      "source": [
        "k = [1, 3, 5, 10]\n",
        "no_weight_acc = []\n",
        "for spam in k:\n",
        "    y_pred = knn(X_train, y_train, X_test, spam)\n",
        "    no_weight_acc.append(accuracy(y_pred, y_test))"
      ],
      "execution_count": 70,
      "outputs": []
    },
    {
      "cell_type": "code",
      "metadata": {
        "colab": {
          "base_uri": "https://localhost:8080/"
        },
        "id": "Gu4VIeEuZv4K",
        "outputId": "ba0130fe-54ae-457e-840f-fc538f0e8a3a"
      },
      "source": [
        "no_weight_acc"
      ],
      "execution_count": 71,
      "outputs": [
        {
          "output_type": "execute_result",
          "data": {
            "text/plain": [
              "[0.7407407407407407,\n",
              " 0.7037037037037037,\n",
              " 0.6666666666666666,\n",
              " 0.7222222222222222]"
            ]
          },
          "metadata": {},
          "execution_count": 71
        }
      ]
    },
    {
      "cell_type": "code",
      "metadata": {
        "id": "-evbltJvaCH2"
      },
      "source": [
        "k = [1, 3, 5, 10,]\n",
        "weighted_num_acc = []\n",
        "for spam in k:\n",
        "    y_pred = weighted_num_knn(X_train, y_train, X_test, spam)\n",
        "    weighted_num_acc.append(accuracy(y_pred, y_test))"
      ],
      "execution_count": 72,
      "outputs": []
    },
    {
      "cell_type": "code",
      "metadata": {
        "colab": {
          "base_uri": "https://localhost:8080/"
        },
        "id": "SO_p61pKaCH3",
        "outputId": "d2d0df0c-a96c-41b5-8f6b-b2791191bf33"
      },
      "source": [
        "weighted_num_acc"
      ],
      "execution_count": 73,
      "outputs": [
        {
          "output_type": "execute_result",
          "data": {
            "text/plain": [
              "[0.7407407407407407,\n",
              " 0.7407407407407407,\n",
              " 0.7407407407407407,\n",
              " 0.7222222222222222]"
            ]
          },
          "metadata": {},
          "execution_count": 73
        }
      ]
    },
    {
      "cell_type": "code",
      "metadata": {
        "id": "PszSu47tZpQ2"
      },
      "source": [
        "k = [1, 3, 5, 10,]\n",
        "weighted_dist_acc = []\n",
        "for spam in k:\n",
        "    y_pred = weighted_dist_knn(X_train, y_train, X_test, spam)\n",
        "    weighted_dist_acc.append(accuracy(y_pred, y_test))"
      ],
      "execution_count": 74,
      "outputs": []
    },
    {
      "cell_type": "code",
      "metadata": {
        "colab": {
          "base_uri": "https://localhost:8080/"
        },
        "id": "EMozl90DZpQ4",
        "outputId": "76b3cc31-edb6-42be-f6c1-848198bc5828"
      },
      "source": [
        "weighted_dist_acc"
      ],
      "execution_count": 75,
      "outputs": [
        {
          "output_type": "execute_result",
          "data": {
            "text/plain": [
              "[0.7407407407407407,\n",
              " 0.8148148148148148,\n",
              " 0.7592592592592593,\n",
              " 0.6851851851851852]"
            ]
          },
          "metadata": {},
          "execution_count": 75
        }
      ]
    },
    {
      "cell_type": "code",
      "metadata": {
        "colab": {
          "base_uri": "https://localhost:8080/"
        },
        "id": "yp3GpUNYeTdo",
        "outputId": "a39968da-7f7b-4730-9524-d64345068318"
      },
      "source": [
        "# сравним показатели accuracy для разных реализаций\n",
        "accuracy_list = np.array([no_weight_acc, weighted_num_acc, weighted_dist_acc])\n",
        "accuracy_list.T"
      ],
      "execution_count": 76,
      "outputs": [
        {
          "output_type": "execute_result",
          "data": {
            "text/plain": [
              "array([[0.74074074, 0.74074074, 0.74074074],\n",
              "       [0.7037037 , 0.74074074, 0.81481481],\n",
              "       [0.66666667, 0.74074074, 0.75925926],\n",
              "       [0.72222222, 0.72222222, 0.68518519]])"
            ]
          },
          "metadata": {},
          "execution_count": 76
        }
      ]
    },
    {
      "cell_type": "markdown",
      "metadata": {
        "id": "Gqlh-Q84gDpJ"
      },
      "source": [
        "Здесь лучше видно, что в целом взвешивание номеров лучше реализации без весов, но хуже реализации со взвешиванием расстояний. (Опять же, если я правильно выполнил задание).  "
      ]
    },
    {
      "cell_type": "markdown",
      "metadata": {
        "id": "eTD7ssMJsQMV"
      },
      "source": [
        "Написать функцию подсчета метрики качества кластеризации как среднее квадратичное внутриклассовое расстояние и построить график ее зависимости от количества кластеров k (взять от 1 до 10) для выборки данных из данного урока (создать датасет, как в методичке)."
      ]
    },
    {
      "cell_type": "code",
      "metadata": {
        "id": "qRhCTQdZuf_G"
      },
      "source": [
        "from sklearn.datasets import make_blobs\n",
        "import random\n",
        "\n",
        "X, y = make_blobs(n_samples=100, random_state=1)"
      ],
      "execution_count": 77,
      "outputs": []
    },
    {
      "cell_type": "markdown",
      "metadata": {
        "id": "Vv0J1xcDuf_H"
      },
      "source": [
        "Изобразим точки на графике."
      ]
    },
    {
      "cell_type": "code",
      "metadata": {
        "id": "I6VqFOARuf_I",
        "colab": {
          "base_uri": "https://localhost:8080/",
          "height": 445
        },
        "outputId": "f8637b4e-e192-4fba-ac84-c458ec27b698"
      },
      "source": [
        "plt.figure(figsize=(7,7))\n",
        "plt.scatter(X[:, 0], X[:, 1])"
      ],
      "execution_count": 78,
      "outputs": [
        {
          "output_type": "execute_result",
          "data": {
            "text/plain": [
              "<matplotlib.collections.PathCollection at 0x7f1eb712db10>"
            ]
          },
          "metadata": {},
          "execution_count": 78
        },
        {
          "output_type": "display_data",
          "data": {
            "image/png": "[encoded data removed]",
            "text/plain": [
              "<Figure size 504x504 with 1 Axes>"
            ]
          },
          "metadata": {
            "needs_background": "light"
          }
        }
      ]
    },
    {
      "cell_type": "markdown",
      "metadata": {
        "id": "a421abi0uf_L"
      },
      "source": [
        "В качестве метрики расстояния будем использовать евклидово расстояние, функция для которого была написана ранее. В качестве центроидов выберем первые k элементов датасета. Реализуем основной цикл алгоритма."
      ]
    },
    {
      "cell_type": "code",
      "metadata": {
        "id": "7LSTomiyuf_L"
      },
      "source": [
        "def kmeans(data, k, max_iterations, min_distance):\n",
        "    # Создадим словарь для классификации\n",
        "    classes = {i: [] for i in range(k)}\n",
        "    \n",
        "    # инициализируем центроиды как первые k элементов датасета\n",
        "    centroids = [data[i] for i in range(k)]\n",
        "    \n",
        "    for _ in range(max_iterations):\n",
        "        # классифицируем объекты по центроидам\n",
        "        for x in data:\n",
        "            # определим расстояния от объекта до каждого центроида\n",
        "            distances = [e_metrics(x, centroid) for centroid in centroids]\n",
        "            # отнесем объект к кластеру, до центроида которого наименьшее расстояние\n",
        "            classification = distances.index(min(distances))\n",
        "            classes[classification].append(x)\n",
        "        \n",
        "        # сохраним предыдущие центроиды в отдельный список для последующего сравнения сновыми\n",
        "        old_centroids = centroids.copy()\n",
        "        \n",
        "        # пересчитаем центроиды как среднее по кластерам\n",
        "        for classification in classes:\n",
        "            centroids[classification] = np.average(classes[classification], axis=0)\n",
        "            \n",
        "        # сравним величину смещения центроидов с минимальной\n",
        "        optimal = True\n",
        "        for centroid in range(len(centroids)):\n",
        "            if np.sum(abs((centroids[centroid] - old_centroids[centroid]) / old_centroids * 100)) > min_distance:\n",
        "                optimal = False\n",
        "                \n",
        "        # если все смещения меньше минимального, останавливаем алгоритм  \n",
        "        if optimal:\n",
        "            break\n",
        "    \n",
        "    return old_centroids, classes"
      ],
      "execution_count": 79,
      "outputs": []
    },
    {
      "cell_type": "code",
      "metadata": {
        "id": "XX_PZ0OOvfsc"
      },
      "source": [
        "def my_metric(centroids, clusters):\n",
        "    err_list = []\n",
        "    for ind, centroid in enumerate(centroids):\n",
        "        err = 0\n",
        "        for itm in clusters[ind]:\n",
        "            err += (sum((itm - centroid)**2))**0.5\n",
        "        err_list.append(err/len(clusters[ind]))\n",
        "\n",
        "    return sum(err_list)/len(err_list)"
      ],
      "execution_count": 80,
      "outputs": []
    },
    {
      "cell_type": "code",
      "metadata": {
        "id": "62Cue7Qt10IQ"
      },
      "source": [
        "min_distance = 1e-4\n",
        "max_iterations = np.arange(1, 11)\n",
        "k = 3\n",
        "error = []\n",
        "for ind, itm in enumerate(max_iterations):\n",
        "    centroids, clusters = kmeans(X, k, itm, min_distance)\n",
        "    error.append(my_metric(centroids, clusters))"
      ],
      "execution_count": 81,
      "outputs": []
    },
    {
      "cell_type": "code",
      "metadata": {
        "colab": {
          "base_uri": "https://localhost:8080/",
          "height": 279
        },
        "id": "NkWGKGNg-AZH",
        "outputId": "588b6e93-ca34-4890-d012-d171fdd641ed"
      },
      "source": [
        "plt.plot(max_iterations, error)\n",
        "plt.xlabel('Iterations')\n",
        "plt.ylabel('Error')\n",
        "plt.show()"
      ],
      "execution_count": 82,
      "outputs": [
        {
          "output_type": "display_data",
          "data": {
            "image/png": "[encoded data removed]",
            "text/plain": [
              "<Figure size 432x288 with 1 Axes>"
            ]
          },
          "metadata": {
            "needs_background": "light"
          }
        }
      ]
    }
  ]
}