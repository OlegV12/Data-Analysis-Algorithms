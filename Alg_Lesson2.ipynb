{
  "nbformat": 4,
  "nbformat_minor": 0,
  "metadata": {
    "colab": {
      "name": "Alg_Lesson2.ipynb",
      "provenance": [],
      "collapsed_sections": [],
      "authorship_tag": "ABX9TyMVJ5g42sMOR9UE97EbvPow",
      "include_colab_link": true
    },
    "kernelspec": {
      "name": "python3",
      "display_name": "Python 3"
    },
    "language_info": {
      "name": "python"
    }
  },
  "cells": [
    {
      "cell_type": "markdown",
      "metadata": {
        "id": "view-in-github",
        "colab_type": "text"
      },
      "source": [
        "<a href=\"https://colab.research.google.com/github/OlegV12/Data-Analysis-Algorithms/blob/Lesson_2/Alg_Lesson2.ipynb\" target=\"_parent\"><img src=\"https://colab.research.google.com/assets/colab-badge.svg\" alt=\"Open In Colab\"/></a>"
      ]
    },
    {
      "cell_type": "markdown",
      "metadata": {
        "id": "Qnt51HYM4ve0"
      },
      "source": [
        "1. Сгенерировать датасет при помощи sklearn.datasets.make_regression и обучить линейную модель при помощи градиентного и стохастического градиентного спуска. Нанести среднеквадратичную ошибку для обоих методов на один график, сделать выводы о разнице скорости сходимости каждого из методов."
      ]
    },
    {
      "cell_type": "code",
      "metadata": {
        "id": "htVgj_rG6tSG"
      },
      "source": [
        "import numpy as np\n",
        "import matplotlib.pyplot as plt\n",
        "from sklearn import datasets\n",
        "import pandas as pd\n"
      ],
      "execution_count": null,
      "outputs": []
    },
    {
      "cell_type": "code",
      "metadata": {
        "id": "iPVc9JAub7At"
      },
      "source": [
        "data, target, coef = datasets.make_regression(n_samples=3000, n_features = 2, n_informative = 2, n_targets = 1, \n",
        "                                              noise = 3, coef = True, random_state = 2)"
      ],
      "execution_count": null,
      "outputs": []
    },
    {
      "cell_type": "code",
      "metadata": {
        "colab": {
          "base_uri": "https://localhost:8080/"
        },
        "id": "MC8sqJ9fiKWe",
        "outputId": "1bdc30ce-efe5-4b37-8dd8-9aa5a16ca99e"
      },
      "source": [
        "data.shape\n"
      ],
      "execution_count": null,
      "outputs": [
        {
          "output_type": "execute_result",
          "data": {
            "text/plain": [
              "(3000, 2)"
            ]
          },
          "metadata": {},
          "execution_count": 93
        }
      ]
    },
    {
      "cell_type": "code",
      "metadata": {
        "colab": {
          "base_uri": "https://localhost:8080/"
        },
        "id": "c6ZTy3WVnVx7",
        "outputId": "a0415d22-a8a8-4499-b446-ceb3160dbcc1"
      },
      "source": [
        "target.shape"
      ],
      "execution_count": null,
      "outputs": [
        {
          "output_type": "execute_result",
          "data": {
            "text/plain": [
              "(3000,)"
            ]
          },
          "metadata": {},
          "execution_count": 94
        }
      ]
    },
    {
      "cell_type": "code",
      "metadata": {
        "colab": {
          "base_uri": "https://localhost:8080/",
          "height": 282
        },
        "id": "bqDTWN6EglvX",
        "outputId": "daba5183-0b37-49c6-d426-d97d54c45160"
      },
      "source": [
        "plt.scatter(data.reshape(2, 3000)[0], data.reshape(2, 3000)[1])"
      ],
      "execution_count": null,
      "outputs": [
        {
          "output_type": "execute_result",
          "data": {
            "text/plain": [
              "<matplotlib.collections.PathCollection at 0x7fd649c0bb50>"
            ]
          },
          "metadata": {},
          "execution_count": 95
        },
        {
          "output_type": "display_data",
          "data": {
            "image/png": "[encoded data removed]",
            "text/plain": [
              "<Figure size 432x288 with 1 Axes>"
            ]
          },
          "metadata": {
            "needs_background": "light"
          }
        }
      ]
    },
    {
      "cell_type": "code",
      "metadata": {
        "id": "G8M3B05Xi2qd",
        "colab": {
          "base_uri": "https://localhost:8080/"
        },
        "outputId": "32d530c3-895a-453f-c905-4abdf5879656"
      },
      "source": [
        "means = np.mean(data, axis=0)\n",
        "means"
      ],
      "execution_count": null,
      "outputs": [
        {
          "output_type": "execute_result",
          "data": {
            "text/plain": [
              "array([ 0.01559901, -0.06711939])"
            ]
          },
          "metadata": {},
          "execution_count": 96
        }
      ]
    },
    {
      "cell_type": "code",
      "metadata": {
        "colab": {
          "base_uri": "https://localhost:8080/"
        },
        "id": "tCWoSBDji62J",
        "outputId": "dfe08bac-cafa-49fe-e29b-50083b925cc7"
      },
      "source": [
        "data_max = np.max(data, axis=0)\n",
        "data_min = np.min(data, axis=0)\n",
        "data_max , data_min"
      ],
      "execution_count": null,
      "outputs": [
        {
          "output_type": "execute_result",
          "data": {
            "text/plain": [
              "(array([4.10869262, 4.13336231]), array([-3.58235851, -3.33496522]))"
            ]
          },
          "metadata": {},
          "execution_count": 97
        }
      ]
    },
    {
      "cell_type": "code",
      "metadata": {
        "id": "sBzKj0jyn8t5"
      },
      "source": [
        "def mserror(X, w, y_pred):\n",
        "    y = X.dot(w)\n",
        "    return (sum((y - y_pred)**2)) / len(y)"
      ],
      "execution_count": null,
      "outputs": []
    },
    {
      "cell_type": "code",
      "metadata": {
        "id": "PrBp4dPVqLYx"
      },
      "source": [
        "def calc_mse(y, y_pred):\n",
        "    err = np.mean((y - y_pred)**2)\n",
        "    return err"
      ],
      "execution_count": null,
      "outputs": []
    },
    {
      "cell_type": "code",
      "metadata": {
        "id": "iB88hWeSoD0d"
      },
      "source": [
        "def stohastic(data, eta = 0.4, max_iter = 35000, min_weight_dist = 1e-8, \n",
        "              weight_dist = np.inf, lambda_value=0.001):\n",
        "  w = np.zeros(2)\n",
        "  w_list = [w.copy()]\n",
        "  errors = []\n",
        "  iter_num = 0\n",
        " \n",
        "  np.random.seed(1234)\n",
        " \n",
        "  while weight_dist > min_weight_dist and iter_num < max_iter:\n",
        "    \n",
        "\n",
        "      train_ind = np.random.randint(data.shape[0])\n",
        "    \n",
        "      new_w = w - 2 * eta * (np.dot(data[train_ind].T, ((np.dot(data[train_ind], w) - target[train_ind]))))  / target.shape[0] \n",
        " \n",
        "      weight_dist = np.linalg.norm(new_w - w, ord=2)\n",
        "    \n",
        "      w_list.append(new_w.copy())\n",
        "      errors.append(mserror(data, new_w, target))\n",
        "    \n",
        "      iter_num += 1\n",
        "      w = new_w\n",
        "    \n",
        "  w_list = np.array(w_list)\n",
        "\n",
        "  return w_list, errors\n"
      ],
      "execution_count": null,
      "outputs": []
    },
    {
      "cell_type": "code",
      "metadata": {
        "id": "SgEyis2zlJeb"
      },
      "source": [
        "def eval_model(X, y, iterations, alpha=1e-4):\n",
        "    W = np.random.randn(X.shape[0])\n",
        "    n = X.shape[1]\n",
        "    gd_errors = []\n",
        "    for i in range(1, iterations+1):\n",
        "        y_pred = np.dot(W, X)\n",
        "        err = calc_mse(y, y_pred)\n",
        "        gd_errors.append(err)\n",
        "        W -= (alpha * (1/n * 2 * np.dot((y_pred - y), X.T)))\n",
        "\n",
        "    return W, gd_errors"
      ],
      "execution_count": null,
      "outputs": []
    },
    {
      "cell_type": "code",
      "metadata": {
        "id": "rGukdccVPE-6"
      },
      "source": [
        "sgd_model = stohastic(data)"
      ],
      "execution_count": null,
      "outputs": []
    },
    {
      "cell_type": "code",
      "metadata": {
        "colab": {
          "base_uri": "https://localhost:8080/"
        },
        "id": "T8HtRVlnPatu",
        "outputId": "80860d69-2a7d-44de-b36c-edaf030f4d42"
      },
      "source": [
        "sgd_model[1][-1]"
      ],
      "execution_count": null,
      "outputs": [
        {
          "output_type": "execute_result",
          "data": {
            "text/plain": [
              "9.095218091492615"
            ]
          },
          "metadata": {},
          "execution_count": 174
        }
      ]
    },
    {
      "cell_type": "code",
      "metadata": {
        "id": "nh-f1bC4qDHg"
      },
      "source": [
        "gd_model = eval_model(data.T, target, 35000)"
      ],
      "execution_count": null,
      "outputs": []
    },
    {
      "cell_type": "code",
      "metadata": {
        "colab": {
          "base_uri": "https://localhost:8080/"
        },
        "id": "6hD1gBPQu0IY",
        "outputId": "40e72152-61f1-472c-9bc1-4a2f34262ebd"
      },
      "source": [
        "gd_model[1][-1]"
      ],
      "execution_count": null,
      "outputs": [
        {
          "output_type": "execute_result",
          "data": {
            "text/plain": [
              "9.095985025298125"
            ]
          },
          "metadata": {},
          "execution_count": 103
        }
      ]
    },
    {
      "cell_type": "code",
      "metadata": {
        "colab": {
          "base_uri": "https://localhost:8080/",
          "height": 265
        },
        "id": "CkFsx1M4rdo3",
        "outputId": "eeccbeb2-7317-4a5f-904f-2ba8c8548900"
      },
      "source": [
        "plt.plot(sgd_model[1], )\n",
        "plt.plot(gd_model[1], color='red')\n",
        "plt.legend(labels=['Stochastic gradient descent', 'Gradient descent'])\n",
        "plt.show()"
      ],
      "execution_count": null,
      "outputs": [
        {
          "output_type": "display_data",
          "data": {
            "image/png": "[encoded data removed]",
            "text/plain": [
              "<Figure size 432x288 with 1 Axes>"
            ]
          },
          "metadata": {
            "needs_background": "light"
          }
        }
      ]
    },
    {
      "cell_type": "markdown",
      "metadata": {
        "id": "Tc2QzYXfuURX"
      },
      "source": [
        "Минимальная MSE (и сходимость весов) будет достигнута стохастическим градиентным спуском быстрее "
      ]
    },
    {
      "cell_type": "markdown",
      "metadata": {
        "id": "idBwOl_TcTq4"
      },
      "source": [
        "2. Модифицировать решение первого задания путем добавления 𝐿2 -регуляризации (в функцию, считающую MSE, нужно добавить норму вектора весов) и сравнить результаты."
      ]
    },
    {
      "cell_type": "code",
      "metadata": {
        "id": "A1XtwF3-LPQT"
      },
      "source": [
        "def stohastic(data, eta = 0.4, max_iter = 35000, min_weight_dist = 1e-8, \n",
        "              weight_dist = np.inf, lambda_value=0.001):\n",
        "  w = np.zeros(2)\n",
        "  w_list = [w.copy()]\n",
        "  errors = []\n",
        "  iter_num = 0\n",
        " \n",
        "  np.random.seed(1234)\n",
        " \n",
        "  while weight_dist > min_weight_dist and iter_num < max_iter:\n",
        "    \n",
        "\n",
        "      train_ind = np.random.randint(data.shape[0])\n",
        "    \n",
        "      new_w = w - 2 * eta * (np.dot(data[train_ind].T, ((np.dot(data[train_ind], w) - target[train_ind])))+ (lambda_value*w*2))  / target.shape[0] \n",
        " \n",
        "      weight_dist = np.linalg.norm(new_w - w, ord=2)\n",
        "    \n",
        "      w_list.append(new_w.copy())\n",
        "      errors.append(mserror(data, new_w, target))\n",
        "    \n",
        "      iter_num += 1\n",
        "      w = new_w\n",
        "    \n",
        "  w_list = np.array(w_list)\n",
        "\n",
        "  return w_list, errors\n"
      ],
      "execution_count": null,
      "outputs": []
    },
    {
      "cell_type": "code",
      "metadata": {
        "id": "oWult-5YNVu-"
      },
      "source": [
        "stohastic_with_l2 = stohastic(data)\n"
      ],
      "execution_count": null,
      "outputs": []
    },
    {
      "cell_type": "code",
      "metadata": {
        "colab": {
          "base_uri": "https://localhost:8080/"
        },
        "id": "ePUKKDAtNZan",
        "outputId": "bdd6ef00-422c-494b-af55-9a7b442e9249"
      },
      "source": [
        "stohastic_with_l2[1][-1]"
      ],
      "execution_count": null,
      "outputs": [
        {
          "output_type": "execute_result",
          "data": {
            "text/plain": [
              "9.11118143411787"
            ]
          },
          "metadata": {},
          "execution_count": 148
        }
      ]
    },
    {
      "cell_type": "code",
      "metadata": {
        "id": "llChEPUJIGao"
      },
      "source": [
        "def eval_model(X, y, iterations, alpha=1e-4, lambda_value=0.001):\n",
        "    W = np.random.randn(X.shape[0])\n",
        "    n = X.shape[1]\n",
        "    gd_errors = []\n",
        "    for i in range(1, iterations+1):\n",
        "        y_pred = np.dot(W, X)\n",
        "        err = calc_mse(y, y_pred)\n",
        "        gd_errors.append(err)\n",
        "        W -= (alpha * (1/n * 2 * (np.dot((y_pred - y), X.T)+(2*lambda_value*W))))\n",
        "\n",
        "    return W, gd_errors"
      ],
      "execution_count": null,
      "outputs": []
    },
    {
      "cell_type": "code",
      "metadata": {
        "id": "00gNbbSgI2oZ"
      },
      "source": [
        "gd_model = eval_model(data.T, target, 35000)"
      ],
      "execution_count": null,
      "outputs": []
    },
    {
      "cell_type": "code",
      "metadata": {
        "colab": {
          "base_uri": "https://localhost:8080/"
        },
        "id": "wJ3PV34kJIbZ",
        "outputId": "82b740d4-a24a-4c9e-edb1-424580f4319f"
      },
      "source": [
        "gd_model[1][-1]"
      ],
      "execution_count": null,
      "outputs": [
        {
          "output_type": "execute_result",
          "data": {
            "text/plain": [
              "9.096280557360018"
            ]
          },
          "metadata": {},
          "execution_count": 166
        }
      ]
    },
    {
      "cell_type": "code",
      "metadata": {
        "colab": {
          "base_uri": "https://localhost:8080/",
          "height": 265
        },
        "id": "KSTFwWZZlcEP",
        "outputId": "929b3d7b-c111-4023-f647-8f440ffa665b"
      },
      "source": [
        "plt.plot(stohastic_with_l2[1])\n",
        "plt.plot(gd_model[1], color='red')\n",
        "plt.legend(labels=['Stochastic gradient descent', 'Gradient descent'])\n",
        "plt.show()"
      ],
      "execution_count": null,
      "outputs": [
        {
          "output_type": "display_data",
          "data": {
            "image/png": "[encoded data removed]",
            "text/plain": [
              "<Figure size 432x288 with 1 Axes>"
            ]
          },
          "metadata": {
            "needs_background": "light"
          }
        }
      ]
    },
    {
      "cell_type": "markdown",
      "metadata": {
        "id": "W6BlEVGcPmxG"
      },
      "source": [
        "MSE незначительно выросла, необходимо оценивать влияние на переобучение"
      ]
    },
    {
      "cell_type": "markdown",
      "metadata": {
        "id": "JEnRBGOAcX3g"
      },
      "source": [
        "3. Модернизировать решение задания 2, заменив L2 регуляризацию на L1 регуляризацию."
      ]
    },
    {
      "cell_type": "code",
      "metadata": {
        "id": "ROI4gkRIRIKf"
      },
      "source": [
        "def abs_matrix(x):\n",
        "  mask = (x >= 0) * 1\n",
        "  mask_2= (x<0)*-1\n",
        "  return mask+mask_2"
      ],
      "execution_count": null,
      "outputs": []
    },
    {
      "cell_type": "code",
      "metadata": {
        "id": "AHxQWzwCQB1F"
      },
      "source": [
        "def stohastic(data, eta = 0.4, max_iter = 35000, min_weight_dist = 1e-8, \n",
        "              weight_dist = np.inf, lambda_value=0.001):\n",
        "  w = np.zeros(2)\n",
        "  w_list = [w.copy()]\n",
        "  errors = []\n",
        "  iter_num = 0\n",
        " \n",
        "  np.random.seed(1234)\n",
        " \n",
        "  while weight_dist > min_weight_dist and iter_num < max_iter:\n",
        "    \n",
        "\n",
        "      train_ind = np.random.randint(data.shape[0])\n",
        "    \n",
        "      new_w = w - 2 * eta * (np.dot(data[train_ind].T, ((np.dot(data[train_ind], w) - target[train_ind])))+ ((lambda_value*w)/abs_matrix(w)))  / target.shape[0] \n",
        " \n",
        "      weight_dist = np.linalg.norm(new_w - w, ord=2)\n",
        "    \n",
        "      w_list.append(new_w.copy())\n",
        "      errors.append(mserror(data, new_w, target))\n",
        "    \n",
        "      iter_num += 1\n",
        "      w = new_w\n",
        "    \n",
        "  w_list = np.array(w_list)\n",
        "\n",
        "  return w_list, errors\n"
      ],
      "execution_count": null,
      "outputs": []
    },
    {
      "cell_type": "code",
      "metadata": {
        "id": "krAt1b_gQZBQ"
      },
      "source": [
        "sgd_model_with_l1 = stohastic(data)"
      ],
      "execution_count": null,
      "outputs": []
    },
    {
      "cell_type": "code",
      "metadata": {
        "colab": {
          "base_uri": "https://localhost:8080/"
        },
        "id": "RSf9ixyrQmvT",
        "outputId": "487098c6-6d81-45b6-a89f-f99250648005"
      },
      "source": [
        "sgd_model_with_l1[1][-1]"
      ],
      "execution_count": null,
      "outputs": [
        {
          "output_type": "execute_result",
          "data": {
            "text/plain": [
              "9.100339448258875"
            ]
          },
          "metadata": {},
          "execution_count": 191
        }
      ]
    },
    {
      "cell_type": "code",
      "metadata": {
        "id": "-Rhcrl6HRHJN"
      },
      "source": [
        "def eval_model(X, y, iterations, alpha=1e-4, lambda_value=0.001):\n",
        "    W = np.random.randn(X.shape[0])\n",
        "    n = X.shape[1]\n",
        "    gd_errors = []\n",
        "    for i in range(1, iterations+1):\n",
        "        y_pred = np.dot(W, X)\n",
        "        err = calc_mse(y, y_pred)\n",
        "        gd_errors.append(err)\n",
        "        W -= (alpha * (1/n * 2 * (np.dot((y_pred - y), X.T)+((lambda_value*W)/abs_matrix(W)))))\n",
        "\n",
        "    return W, gd_errors"
      ],
      "execution_count": null,
      "outputs": []
    },
    {
      "cell_type": "code",
      "metadata": {
        "id": "fL10_wsBSNn_"
      },
      "source": [
        "gd_model_with_l1 = eval_model(data.T, target, 35000)"
      ],
      "execution_count": null,
      "outputs": []
    },
    {
      "cell_type": "code",
      "metadata": {
        "colab": {
          "base_uri": "https://localhost:8080/"
        },
        "id": "HITV9dB1SZVH",
        "outputId": "1b2d2dc2-4715-4d79-9e93-306976e4cfef"
      },
      "source": [
        "gd_model_with_l1[1][-1]"
      ],
      "execution_count": null,
      "outputs": [
        {
          "output_type": "execute_result",
          "data": {
            "text/plain": [
              "9.09598679014422"
            ]
          },
          "metadata": {},
          "execution_count": 195
        }
      ]
    }
  ]
}