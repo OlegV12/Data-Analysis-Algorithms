{
  "nbformat": 4,
  "nbformat_minor": 0,
  "metadata": {
    "colab": {
      "name": "Alg_Lesson1.ipynb",
      "provenance": [],
      "authorship_tag": "ABX9TyOY/vVzx5YpcNTtMx3FujeK",
      "include_colab_link": true
    },
    "kernelspec": {
      "name": "python3",
      "display_name": "Python 3"
    },
    "language_info": {
      "name": "python"
    }
  },
  "cells": [
    {
      "cell_type": "markdown",
      "metadata": {
        "id": "view-in-github",
        "colab_type": "text"
      },
      "source": [
        "<a href=\"https://colab.research.google.com/github/OlegV12/Data-Analysis-Algorithms/blob/Lesson_1/Alg_Lesson1.ipynb\" target=\"_parent\"><img src=\"https://colab.research.google.com/assets/colab-badge.svg\" alt=\"Open In Colab\"/></a>"
      ]
    },
    {
      "cell_type": "markdown",
      "metadata": {
        "id": "Qnt51HYM4ve0"
      },
      "source": [
        "1. Подберите скорость обучения (alpha) и количество итераций для градиентного спуска. "
      ]
    },
    {
      "cell_type": "code",
      "metadata": {
        "id": "htVgj_rG6tSG"
      },
      "source": [
        "import numpy as np\n",
        "import matplotlib.pyplot as plt\n"
      ],
      "execution_count": 36,
      "outputs": []
    },
    {
      "cell_type": "code",
      "metadata": {
        "id": "ooQoVJSu66s3"
      },
      "source": [
        "def calc_mse(y, y_pred):\n",
        "    err = np.mean((y - y_pred)**2)\n",
        "    return err"
      ],
      "execution_count": 7,
      "outputs": []
    },
    {
      "cell_type": "code",
      "metadata": {
        "id": "CHlynPzv4tKn"
      },
      "source": [
        "y = [45, 55, 50, 59, 65, 35, 75, 80, 50, 60]\n",
        "X = np.array([[1, 1, 1, 1, 1, 1, 1, 1, 1, 1],\n",
        "              [1, 1, 2, 1, 3, 0, 5, 10, 1, 2]])"
      ],
      "execution_count": 219,
      "outputs": []
    },
    {
      "cell_type": "code",
      "metadata": {
        "colab": {
          "base_uri": "https://localhost:8080/",
          "height": 279
        },
        "id": "xIpND6mKDPbx",
        "outputId": "fca287ff-d477-4bd4-f883-6dbdda927045"
      },
      "source": [
        "n = X.shape[1]\n",
        "alpha = [1e-2, 1e-3, 1e-4,]\n",
        "color = ['red', 'blue', 'orange']\n",
        "for q in alpha:\n",
        "  W = np.array([1, 0.5])\n",
        "  for i in range(2000):\n",
        "      y_pred = np.dot(W, X)\n",
        "      err = calc_mse(y, y_pred)\n",
        "      for ii in range(W.shape[0]):\n",
        "          W[ii] -= q * (1/n * 2 * np.sum(X[ii] * (y_pred - y)))\n",
        "      if i % 100 == 0:\n",
        "          plt.scatter(i, err, color=color[alpha.index(q)],)\n",
        "          plt.xlabel('iterations')\n",
        "          plt.ylabel('error')\n",
        "          "
      ],
      "execution_count": 197,
      "outputs": [
        {
          "output_type": "display_data",
          "data": {
            "image/png": "[encoded data removed]",
            "text/plain": [
              "<Figure size 432x288 with 1 Axes>"
            ]
          },
          "metadata": {
            "needs_background": "light"
          }
        }
      ]
    },
    {
      "cell_type": "code",
      "metadata": {
        "colab": {
          "base_uri": "https://localhost:8080/",
          "height": 605
        },
        "id": "SqYpoQwpIRXM",
        "outputId": "6ea94a40-c9ea-48a4-a4ef-5605e7582692"
      },
      "source": [
        "n = X.shape[1]\n",
        "alpha = 1e-2 \n",
        "W = np.array([1, 0.5])\n",
        "W, alpha\n",
        "for i in range(1000):\n",
        "    y_pred = np.dot(W, X)\n",
        "    err = calc_mse(y, y_pred)\n",
        "    for ii in range(W.shape[0]):\n",
        "        W[ii] -= alpha * (1/n * 2 * np.sum(X[ii] * (y_pred - y)))\n",
        "    if i % 50 == 0:\n",
        "        print(i, W, err)\n",
        "        plt.scatter(i, err, color='blue')\n"
      ],
      "execution_count": 199,
      "outputs": [
        {
          "output_type": "stream",
          "name": "stdout",
          "text": [
            "0 [2.102 3.9  ] 3173.15\n",
            "50 [21.35487986  8.68914872] 413.5487715072509\n",
            "100 [31.88770806  6.74418155] 175.19445858001853\n",
            "150 [38.13335681  5.59087473] 91.38594686849362\n",
            "200 [41.83683774  4.90699865] 61.9177717428135\n",
            "250 [44.03289    4.5014808] 51.556373747502974\n",
            "300 [45.33508261  4.26102097] 47.913169919666785\n",
            "350 [46.10724347  4.11843556] 46.63217153149881\n",
            "400 [46.56511152  4.03388672] 46.181755648107604\n",
            "450 [46.83661344  3.98375182] 46.023383498786444\n",
            "500 [46.99760587  3.95402334] 45.96769776787538\n",
            "550 [47.09306951  3.93639524] 45.94811793240307\n",
            "600 [47.14967657  3.92594232] 45.941233404700036\n",
            "650 [47.18324284  3.91974405] 45.93881271420132\n",
            "700 [47.20314662  3.91606866] 45.93796156758051\n",
            "750 [47.21494897  3.91388927] 45.93766229323273\n",
            "800 [47.2219474   3.91259695] 45.93755706443538\n",
            "850 [47.22609726  3.91183065] 45.93752006460609\n",
            "900 [47.228558    3.91137626] 45.937507054979434\n",
            "950 [47.23001715  3.91110681] 45.937502480623564\n"
          ]
        },
        {
          "output_type": "display_data",
          "data": {
            "image/png": "[encoded data removed]",
            "text/plain": [
              "<Figure size 432x288 with 1 Axes>"
            ]
          },
          "metadata": {
            "needs_background": "light"
          }
        }
      ]
    },
    {
      "cell_type": "markdown",
      "metadata": {
        "id": "UQUwK2sNI0xz"
      },
      "source": [
        "Ответ\n",
        "\n",
        "alpha = 1e-2\n",
        "\n",
        "number_of_iterations = 800"
      ]
    },
    {
      "cell_type": "markdown",
      "metadata": {
        "id": "LTF_3-bd5RYn"
      },
      "source": [
        "*2. В этом коде мы избавляемся от итераций по весам, но тут есть ошибка, исправьте ее:"
      ]
    },
    {
      "cell_type": "code",
      "metadata": {
        "colab": {
          "base_uri": "https://localhost:8080/"
        },
        "id": "NIdTOl2ROrbM",
        "outputId": "9359eb65-d4c3-4bcd-bf95-e136e10dbb47"
      },
      "source": [
        "n = X.shape[1]\n",
        "alpha = 1e-2 \n",
        "W = np.array([1, 0.5])\n",
        "W, alpha"
      ],
      "execution_count": 291,
      "outputs": [
        {
          "output_type": "execute_result",
          "data": {
            "text/plain": [
              "(array([1. , 0.5]), 0.01)"
            ]
          },
          "metadata": {},
          "execution_count": 291
        }
      ]
    },
    {
      "cell_type": "code",
      "metadata": {
        "colab": {
          "base_uri": "https://localhost:8080/"
        },
        "id": "D3_xH7v35R5t",
        "outputId": "08c7af84-8ba7-46aa-b1e6-ddf4bf81bf1e"
      },
      "source": [
        "for i in range(1000):\n",
        "  y_pred = np.dot(W, X)\n",
        "  err = calc_mse(y, y_pred)\n",
        "  '''for ii in range(W.shape[0]):\n",
        "  W[ii] -= alpha * (1/n * 2 * np.sum(X[ii] * (y_pred - y)))'''\n",
        "  W -= (alpha * (1/n * 2 * np.sum(X * (y_pred - y))))\n",
        "  if i % 100 == 0:\n",
        "    print(i, W, err)"
      ],
      "execution_count": 292,
      "outputs": [
        {
          "output_type": "stream",
          "name": "stdout",
          "text": [
            "0 [5.502 5.002] 3173.15\n",
            "100 [11.82211538 11.32211538] 737.0918269230771\n",
            "200 [11.82211538 11.32211538] 737.0918269230771\n",
            "300 [11.82211538 11.32211538] 737.0918269230771\n",
            "400 [11.82211538 11.32211538] 737.0918269230771\n",
            "500 [11.82211538 11.32211538] 737.0918269230771\n",
            "600 [11.82211538 11.32211538] 737.0918269230771\n",
            "700 [11.82211538 11.32211538] 737.0918269230771\n",
            "800 [11.82211538 11.32211538] 737.0918269230771\n",
            "900 [11.82211538 11.32211538] 737.0918269230771\n"
          ]
        }
      ]
    },
    {
      "cell_type": "code",
      "metadata": {
        "colab": {
          "base_uri": "https://localhost:8080/"
        },
        "id": "4LtG4sIvR9su",
        "outputId": "43a25662-ee90-4b19-c6f1-b27ac3ca9777"
      },
      "source": [
        "y = [45, 55, 50, 59, 65, 35, 75, 80, 50, 60]\n",
        "X = np.array([[1, 1, 1, 1, 1, 1, 1, 1, 1, 1],\n",
        "              [1, 1, 2, 1, 3, 0, 5, 10, 1, 2]])\n",
        "n = X.shape[1]\n",
        "alpha = 1e-2 \n",
        "W = np.array([1, 0.5])\n",
        "W, alpha\n",
        "\n",
        "\n",
        "for i in range(20000):\n",
        "  W_0_temp = W[0]\n",
        "  W_1_temp = W[1]\n",
        "  W[0] -= alpha*(2/n)*np.sum(((W_0_temp*X[1] + W_1_temp) - y) * X[1]) \n",
        "  W[1] -= alpha*(2/n)*np.sum((W_0_temp*X[1] + W_1_temp)- y)\n",
        " \n",
        "print (W)"
      ],
      "execution_count": 293,
      "outputs": [
        {
          "output_type": "stream",
          "name": "stdout",
          "text": [
            "[ 3.91071429 47.23214286]\n"
          ]
        }
      ]
    }
  ]
}