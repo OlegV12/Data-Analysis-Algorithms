{
  "nbformat": 4,
  "nbformat_minor": 0,
  "metadata": {
    "colab": {
      "name": "Alg_Lesson3.ipynb",
      "provenance": [],
      "collapsed_sections": [],
      "authorship_tag": "ABX9TyO1Or9lS2SMNkfW7RShk9fi",
      "include_colab_link": true
    },
    "kernelspec": {
      "name": "python3",
      "display_name": "Python 3"
    },
    "language_info": {
      "name": "python"
    }
  },
  "cells": [
    {
      "cell_type": "markdown",
      "metadata": {
        "id": "view-in-github",
        "colab_type": "text"
      },
      "source": [
        "<a href=\"https://colab.research.google.com/github/OlegV12/Data-Analysis-Algorithms/blob/Lesson_3/Alg_Lesson3.ipynb\" target=\"_parent\"><img src=\"https://colab.research.google.com/assets/colab-badge.svg\" alt=\"Open In Colab\"/></a>"
      ]
    },
    {
      "cell_type": "markdown",
      "metadata": {
        "id": "Qnt51HYM4ve0"
      },
      "source": [
        "1*. Измените функцию calc_logloss так, чтобы нули по возможности не попадали в np.log. \n"
      ]
    },
    {
      "cell_type": "code",
      "metadata": {
        "id": "htVgj_rG6tSG"
      },
      "source": [
        "import numpy as np\n",
        "import matplotlib.pyplot as plt\n",
        "from sklearn import datasets\n",
        "import pandas as pd\n"
      ],
      "execution_count": 230,
      "outputs": []
    },
    {
      "cell_type": "code",
      "metadata": {
        "id": "MC8sqJ9fiKWe"
      },
      "source": [
        "def calc_logloss(y, y_pred):\n",
        "  eps = np.nextafter(0, 1)\n",
        "  y_pred[y_pred == 1] = 1 - eps\n",
        "  y_pred[y_pred == 0] = eps\n",
        "\n",
        "  err = - np.mean(y * np.log(y_pred) + (1.0 - y) * np.log(1.0 - y_pred))\n",
        "  return err\n"
      ],
      "execution_count": 319,
      "outputs": []
    },
    {
      "cell_type": "markdown",
      "metadata": {
        "id": "xS3j43z2ybP_"
      },
      "source": [
        "2. Подберите аргументы функции eval_model для логистической регрессии таким образом, чтобы log loss был минимальным."
      ]
    },
    {
      "cell_type": "code",
      "metadata": {
        "id": "iPVc9JAub7At"
      },
      "source": [
        "X = np.array([[1, 1, 1, 1, 1, 1, 1, 1, 1, 1],\n",
        "              [1, 1, 2, 1, 3, 0, 5, 10, 1, 2],\n",
        "              [500, 700, 750, 600, 1450,\n",
        "               800, 1500, 2000, 450, 1000],\n",
        "              [1, 1, 2, 1, 2, 1, 3, 3, 1, 2]], dtype = np.float64)\n",
        "\n",
        "y = np.array([0, 0, 1, 0, 1, 0, 1, 0, 1, 1], dtype = np.float64)"
      ],
      "execution_count": 405,
      "outputs": []
    },
    {
      "cell_type": "code",
      "metadata": {
        "id": "M-aO1NTxOUfo"
      },
      "source": [
        "def calc_std_feat(x):\n",
        "    res = (x - x.mean()) / x.std()\n",
        "    return res"
      ],
      "execution_count": 406,
      "outputs": []
    },
    {
      "cell_type": "code",
      "metadata": {
        "id": "D8EL0iGJOVpe"
      },
      "source": [
        "X_st = X.copy()\n",
        "X_st[2, :] = calc_std_feat(X[2, :])"
      ],
      "execution_count": 407,
      "outputs": []
    },
    {
      "cell_type": "code",
      "metadata": {
        "colab": {
          "base_uri": "https://localhost:8080/"
        },
        "id": "QQfqFfjv87T9",
        "outputId": "920839aa-e79c-4a87-e1e8-51273685dc4d"
      },
      "source": [
        "X"
      ],
      "execution_count": 408,
      "outputs": [
        {
          "output_type": "execute_result",
          "data": {
            "text/plain": [
              "array([[1.00e+00, 1.00e+00, 1.00e+00, 1.00e+00, 1.00e+00, 1.00e+00,\n",
              "        1.00e+00, 1.00e+00, 1.00e+00, 1.00e+00],\n",
              "       [1.00e+00, 1.00e+00, 2.00e+00, 1.00e+00, 3.00e+00, 0.00e+00,\n",
              "        5.00e+00, 1.00e+01, 1.00e+00, 2.00e+00],\n",
              "       [5.00e+02, 7.00e+02, 7.50e+02, 6.00e+02, 1.45e+03, 8.00e+02,\n",
              "        1.50e+03, 2.00e+03, 4.50e+02, 1.00e+03],\n",
              "       [1.00e+00, 1.00e+00, 2.00e+00, 1.00e+00, 2.00e+00, 1.00e+00,\n",
              "        3.00e+00, 3.00e+00, 1.00e+00, 2.00e+00]])"
            ]
          },
          "metadata": {},
          "execution_count": 408
        }
      ]
    },
    {
      "cell_type": "code",
      "metadata": {
        "colab": {
          "base_uri": "https://localhost:8080/"
        },
        "id": "7OEDJYt084zj",
        "outputId": "4afa5a31-29e1-47b8-d60b-99caf7f80f8c"
      },
      "source": [
        "X_st"
      ],
      "execution_count": 409,
      "outputs": [
        {
          "output_type": "execute_result",
          "data": {
            "text/plain": [
              "array([[ 1.        ,  1.        ,  1.        ,  1.        ,  1.        ,\n",
              "         1.        ,  1.        ,  1.        ,  1.        ,  1.        ],\n",
              "       [ 1.        ,  1.        ,  2.        ,  1.        ,  3.        ,\n",
              "         0.        ,  5.        , 10.        ,  1.        ,  2.        ],\n",
              "       [-0.97958969, -0.56713087, -0.46401617, -0.77336028,  0.97958969,\n",
              "        -0.36090146,  1.08270439,  2.11385144, -1.08270439,  0.05155735],\n",
              "       [ 1.        ,  1.        ,  2.        ,  1.        ,  2.        ,\n",
              "         1.        ,  3.        ,  3.        ,  1.        ,  2.        ]])"
            ]
          },
          "metadata": {},
          "execution_count": 409
        }
      ]
    },
    {
      "cell_type": "code",
      "metadata": {
        "id": "l08g6NGm1JS8"
      },
      "source": [
        "def sigmoid(z):\n",
        "    res = 1 / (1 + np.exp(-z))\n",
        "    return res"
      ],
      "execution_count": 410,
      "outputs": []
    },
    {
      "cell_type": "code",
      "metadata": {
        "id": "Ot-U_nGSyhdg"
      },
      "source": [
        "def eval_model(X, y, iterations, alpha=1e-4,):\n",
        "    np.random.seed(42)\n",
        "    W = np.random.randn(X.shape[0])\n",
        "    n = X.shape[1]\n",
        "    for i in range(1, iterations+1):\n",
        "        z = np.dot(W, X)\n",
        "        y_pred = sigmoid(z)\n",
        "        err = calc_logloss(y, y_pred)\n",
        "        W -= alpha * (1/n * np.dot((y_pred - y), X.T))\n",
        "    # if i % (iterations / 10) == 0:\n",
        "    #     print(i, W, err)\n",
        "    return W, err"
      ],
      "execution_count": 411,
      "outputs": []
    },
    {
      "cell_type": "code",
      "metadata": {
        "id": "QWmea3kC0slU"
      },
      "source": [
        "alpha = [1e-2, 1e-3, 1e-4,]\n",
        "iter = [5000, 10000, 15000]\n",
        "\n",
        "errors = []\n",
        "for a in alpha:\n",
        "  for i in iter: \n",
        "    w = eval_model(X_st, y, iterations=i, alpha=a)\n",
        "    errors.append(w[1])\n"
      ],
      "execution_count": 412,
      "outputs": []
    },
    {
      "cell_type": "code",
      "metadata": {
        "colab": {
          "base_uri": "https://localhost:8080/",
          "height": 283
        },
        "id": "qBp8M01B09me",
        "outputId": "9cc8e08d-1465-4bb8-fd81-97a22269e264"
      },
      "source": [
        "plt.plot(errors)"
      ],
      "execution_count": 413,
      "outputs": [
        {
          "output_type": "execute_result",
          "data": {
            "text/plain": [
              "[<matplotlib.lines.Line2D at 0x7f5d3426d2d0>]"
            ]
          },
          "metadata": {},
          "execution_count": 413
        },
        {
          "output_type": "display_data",
          "data": {
            "image/png": "[encoded data removed]",
            "text/plain": [
              "<Figure size 432x288 with 1 Axes>"
            ]
          },
          "metadata": {
            "needs_background": "light"
          }
        }
      ]
    },
    {
      "cell_type": "code",
      "metadata": {
        "colab": {
          "base_uri": "https://localhost:8080/"
        },
        "id": "brpPIvSc3-w2",
        "outputId": "d5c70fde-e03e-4002-b801-5cd1243da7e8"
      },
      "source": [
        "errors"
      ],
      "execution_count": 414,
      "outputs": [
        {
          "output_type": "execute_result",
          "data": {
            "text/plain": [
              "[0.4534151021622755,\n",
              " 0.4058305387773311,\n",
              " 0.3748944911339157,\n",
              " 0.5416473056405607,\n",
              " 0.5233563729128639,\n",
              " 0.5103453809352965,\n",
              " 0.6416846622934699,\n",
              " 0.5906743816929662,\n",
              " 0.5776141768084071]"
            ]
          },
          "metadata": {},
          "execution_count": 414
        }
      ]
    },
    {
      "cell_type": "markdown",
      "metadata": {
        "id": "hxWhUuCI6RJ7"
      },
      "source": [
        "Оптимальные параметры: 15000 итераций и скорость обучения 1e-2"
      ]
    },
    {
      "cell_type": "markdown",
      "metadata": {
        "id": "_t2e7FzO6ybB"
      },
      "source": [
        "3. Создайте функцию calc_pred_proba, возвращающую предсказанную вероятность класса 1 (на вход подаются W, который уже посчитан функцией eval_model и X, на выходе - массив y_pred_proba)."
      ]
    },
    {
      "cell_type": "code",
      "metadata": {
        "id": "fOg1rK497a0p"
      },
      "source": [
        "lr_model = eval_model(X_st, y, iterations=15000, alpha=1e-2)"
      ],
      "execution_count": 415,
      "outputs": []
    },
    {
      "cell_type": "code",
      "metadata": {
        "id": "2uwPFS4V7EVv"
      },
      "source": [
        "def calc_pred_proba(W, X):\n",
        "  pred = np.dot(W, X_st)\n",
        "  y_pred_proba = 1 / (1 + np.exp(-pred))\n",
        "\n",
        "\n",
        "  return y_pred_proba"
      ],
      "execution_count": 416,
      "outputs": []
    },
    {
      "cell_type": "code",
      "metadata": {
        "colab": {
          "base_uri": "https://localhost:8080/"
        },
        "id": "RCfLo79bGyFe",
        "outputId": "6beadfcb-be5b-4dc2-8acd-30f884dee626"
      },
      "source": [
        "predict_prob = calc_pred_proba(lr_model[0], X_st)\n",
        "predict_prob"
      ],
      "execution_count": 417,
      "outputs": [
        {
          "output_type": "execute_result",
          "data": {
            "text/plain": [
              "array([0.25837324, 0.27275949, 0.87259994, 0.26550415, 0.76267207,\n",
              "       0.51778979, 0.95509356, 0.1378597 , 0.25485493, 0.88250437])"
            ]
          },
          "metadata": {},
          "execution_count": 417
        }
      ]
    },
    {
      "cell_type": "markdown",
      "metadata": {
        "id": "KD12nKQhIGGO"
      },
      "source": [
        "4. Создайте функцию calc_pred, возвращающую предсказанный класс (на вход подаются W, который уже посчитан функцией eval_model и X, на выходе - массив y_pred).\n",
        "\n"
      ]
    },
    {
      "cell_type": "code",
      "metadata": {
        "id": "bMsWVWFPIFh1"
      },
      "source": [
        "def calc_pred (W, X, base_line=0.5):\n",
        "  predict_prob = calc_pred_proba(W, X)\n",
        "  predict_prob[predict_prob >= base_line] = 1\n",
        "  predict_prob[predict_prob<base_line] = 0\n",
        "\n",
        "  return predict_prob\n"
      ],
      "execution_count": 418,
      "outputs": []
    },
    {
      "cell_type": "code",
      "metadata": {
        "colab": {
          "base_uri": "https://localhost:8080/"
        },
        "id": "8sGPtV_rJRys",
        "outputId": "8713a5f9-47c4-40e2-c1f3-cb8af67b7480"
      },
      "source": [
        "calc_pred(lr_model[0], X_st, 0.52) # при bseline ==0.52 получим еще один точно предсказанный альтернативный класс"
      ],
      "execution_count": 419,
      "outputs": [
        {
          "output_type": "execute_result",
          "data": {
            "text/plain": [
              "array([0., 0., 1., 0., 1., 0., 1., 0., 0., 1.])"
            ]
          },
          "metadata": {},
          "execution_count": 419
        }
      ]
    },
    {
      "cell_type": "markdown",
      "metadata": {
        "id": "Vd8LjUWzQgqM"
      },
      "source": [
        "5. Посчитайте Accuracy, матрицу ошибок, точность и полноту, а также F1 score."
      ]
    },
    {
      "cell_type": "code",
      "metadata": {
        "colab": {
          "base_uri": "https://localhost:8080/"
        },
        "id": "wxmN6yuJRZwZ",
        "outputId": "70ef0f51-f6ca-41ed-e23a-4840e28d8307"
      },
      "source": [
        "y_predictions = calc_pred(lr_model[0], X_st)\n",
        "y_predictions"
      ],
      "execution_count": 420,
      "outputs": [
        {
          "output_type": "execute_result",
          "data": {
            "text/plain": [
              "array([0., 0., 1., 0., 1., 1., 1., 0., 0., 1.])"
            ]
          },
          "metadata": {},
          "execution_count": 420
        }
      ]
    },
    {
      "cell_type": "code",
      "metadata": {
        "colab": {
          "base_uri": "https://localhost:8080/"
        },
        "id": "mEJZPQy_RghO",
        "outputId": "36aa817a-4b3b-4450-fa0a-8ebcf9c95119"
      },
      "source": [
        "y"
      ],
      "execution_count": 421,
      "outputs": [
        {
          "output_type": "execute_result",
          "data": {
            "text/plain": [
              "array([0., 0., 1., 0., 1., 0., 1., 0., 1., 1.])"
            ]
          },
          "metadata": {},
          "execution_count": 421
        }
      ]
    },
    {
      "cell_type": "code",
      "metadata": {
        "id": "W1sgsLHQS4wA"
      },
      "source": [
        "tp = 0\n",
        "tn = 0\n",
        "fp = 0\n",
        "fn = 0\n",
        "for indx, itm in enumerate(y_predictions):\n",
        "  if itm == y[indx] and itm == 1: # true positive\n",
        "    tp += 1\n",
        "  elif itm == y[indx] and itm == 0: # true negative\n",
        "    tn += 1\n",
        "  elif itm != y[indx] and itm == 0: # false negative\n",
        "    fn += 1\n",
        "  elif itm != y[indx] and itm == 1: # false positive\n",
        "    fp += 1    \n"
      ],
      "execution_count": 422,
      "outputs": []
    },
    {
      "cell_type": "code",
      "metadata": {
        "colab": {
          "base_uri": "https://localhost:8080/"
        },
        "id": "WVob5pD1W3Ee",
        "outputId": "10ca9fa7-2311-41c5-ecf2-f3eea41fa898"
      },
      "source": [
        "accuracy = tp / len(y[y==1])\n",
        "accuracy"
      ],
      "execution_count": 423,
      "outputs": [
        {
          "output_type": "execute_result",
          "data": {
            "text/plain": [
              "0.8"
            ]
          },
          "metadata": {},
          "execution_count": 423
        }
      ]
    },
    {
      "cell_type": "code",
      "metadata": {
        "colab": {
          "base_uri": "https://localhost:8080/"
        },
        "id": "3shSbYN1Xq16",
        "outputId": "93897086-6857-436c-b5d5-d0b5bacfc7a5"
      },
      "source": [
        "err_matrix = np.array([[tp, fp], [tn, fn]])\n",
        "err_matrix"
      ],
      "execution_count": 424,
      "outputs": [
        {
          "output_type": "execute_result",
          "data": {
            "text/plain": [
              "array([[4, 1],\n",
              "       [4, 1]])"
            ]
          },
          "metadata": {},
          "execution_count": 424
        }
      ]
    },
    {
      "cell_type": "code",
      "metadata": {
        "colab": {
          "base_uri": "https://localhost:8080/"
        },
        "id": "pFJqb4u2YSGm",
        "outputId": "23ba9f3a-26de-4145-94c6-6bf44e9afb60"
      },
      "source": [
        "precision = tp/ (tp+fp)\n",
        "precision"
      ],
      "execution_count": 425,
      "outputs": [
        {
          "output_type": "execute_result",
          "data": {
            "text/plain": [
              "0.8"
            ]
          },
          "metadata": {},
          "execution_count": 425
        }
      ]
    },
    {
      "cell_type": "code",
      "metadata": {
        "colab": {
          "base_uri": "https://localhost:8080/"
        },
        "id": "CDiPAZxdYmL-",
        "outputId": "5153da11-5333-433e-dd1e-11abf3eb4fe0"
      },
      "source": [
        "recall = tp/(tp+fn)\n",
        "recall"
      ],
      "execution_count": 426,
      "outputs": [
        {
          "output_type": "execute_result",
          "data": {
            "text/plain": [
              "0.8"
            ]
          },
          "metadata": {},
          "execution_count": 426
        }
      ]
    },
    {
      "cell_type": "code",
      "metadata": {
        "colab": {
          "base_uri": "https://localhost:8080/"
        },
        "id": "Swx2bih8Y5bj",
        "outputId": "f8578b6e-81d8-42ae-ab63-431964e78a1f"
      },
      "source": [
        "f1 = 2*precision*recall/(precision+ recall)\n",
        "f1"
      ],
      "execution_count": 427,
      "outputs": [
        {
          "output_type": "execute_result",
          "data": {
            "text/plain": [
              "0.8000000000000002"
            ]
          },
          "metadata": {},
          "execution_count": 427
        }
      ]
    },
    {
      "cell_type": "markdown",
      "metadata": {
        "id": "B-UadJWKZRi8"
      },
      "source": [
        "6. Могла ли модель переобучиться? Почему?"
      ]
    },
    {
      "cell_type": "markdown",
      "metadata": {
        "id": "C8qhERufbUhE"
      },
      "source": [
        "Да могла, т.к. количестово наблюдений очень мало и мы ничего не делали чтобы переобучение предотвратить. При увеличении количества итераций logloss продолжит уменьшаться. "
      ]
    },
    {
      "cell_type": "markdown",
      "metadata": {
        "id": "dOjINkGtb5w0"
      },
      "source": [
        "7*. Создайте функции eval_model_l1 и eval_model_l2 с применением L1 и L2 регуляризаций соответственно."
      ]
    },
    {
      "cell_type": "code",
      "metadata": {
        "id": "4YTbhHK6fDhr"
      },
      "source": [
        "def abs_matrix(x):\n",
        "  mask = (x >= 0) * 1\n",
        "  mask_2= (x<0)*-1\n",
        "  return mask+mask_2"
      ],
      "execution_count": 465,
      "outputs": []
    },
    {
      "cell_type": "code",
      "metadata": {
        "id": "7pS-gKLccdM-"
      },
      "source": [
        "def eval_model_l1(X, y, iterations, alpha=1e-4, lambda_value=0.001):\n",
        "    np.random.seed(42)\n",
        "    W = np.random.randn(X.shape[0])\n",
        "    n = X.shape[1]\n",
        "    for i in range(1, iterations+1):\n",
        "        z = np.dot(W, X)\n",
        "        y_pred = sigmoid(z)\n",
        "        err = calc_logloss(y, y_pred)\n",
        "        W -= alpha * (1/n * (np.dot((y_pred - y), X.T)+((lambda_value*W)/abs_matrix(W))))\n",
        "\n",
        "    return W, err"
      ],
      "execution_count": 466,
      "outputs": []
    },
    {
      "cell_type": "code",
      "metadata": {
        "id": "twAUP2FRe1LN"
      },
      "source": [
        "alpha = [1e-2, 1e-3, 1e-4,]\n",
        "iter = [5000, 10000, 15000,]\n",
        "\n",
        "errors = []\n",
        "for a in alpha:\n",
        "  for i in iter: \n",
        "    w = eval_model_l1(X_st, y, iterations=i, alpha=a)\n",
        "    errors.append(w[1])"
      ],
      "execution_count": 467,
      "outputs": []
    },
    {
      "cell_type": "code",
      "metadata": {
        "colab": {
          "base_uri": "https://localhost:8080/",
          "height": 283
        },
        "id": "IYGNhGnffNly",
        "outputId": "146a2fb4-6fb0-4bb1-cc91-720a907c6cfd"
      },
      "source": [
        "plt.plot(errors)"
      ],
      "execution_count": 468,
      "outputs": [
        {
          "output_type": "execute_result",
          "data": {
            "text/plain": [
              "[<matplotlib.lines.Line2D at 0x7f5d3351cd90>]"
            ]
          },
          "metadata": {},
          "execution_count": 468
        },
        {
          "output_type": "display_data",
          "data": {
            "image/png": "[encoded data removed]",
            "text/plain": [
              "<Figure size 432x288 with 1 Axes>"
            ]
          },
          "metadata": {
            "needs_background": "light"
          }
        }
      ]
    },
    {
      "cell_type": "code",
      "metadata": {
        "colab": {
          "base_uri": "https://localhost:8080/"
        },
        "id": "JMJrGLmvfQCq",
        "outputId": "2f283a1b-3b86-495c-f068-4c42e7505f65"
      },
      "source": [
        "np.min(errors)"
      ],
      "execution_count": 469,
      "outputs": [
        {
          "output_type": "execute_result",
          "data": {
            "text/plain": [
              "0.37474175122874664"
            ]
          },
          "metadata": {},
          "execution_count": 469
        }
      ]
    },
    {
      "cell_type": "code",
      "metadata": {
        "id": "4ohH9hNMcRqJ"
      },
      "source": [
        "def eval_model_l2(X, y, iterations, alpha=1e-4,lambda_value=0.001):\n",
        "    np.random.seed(42)\n",
        "    W = np.random.randn(X.shape[0])\n",
        "    n = X.shape[1]\n",
        "    for i in range(1, iterations+1):\n",
        "        z = np.dot(W, X)\n",
        "        y_pred = sigmoid(z)\n",
        "        err = calc_logloss(y, y_pred)\n",
        "        W -= alpha * (1/n * (np.dot((y_pred - y), X.T)+(2*lambda_value*W)))\n",
        "\n",
        "    return W, err"
      ],
      "execution_count": 470,
      "outputs": []
    },
    {
      "cell_type": "code",
      "metadata": {
        "id": "hrzozmqecwyb"
      },
      "source": [
        "alpha = [1e-2, 1e-3, 1e-4,]\n",
        "iter = [5000, 10000, 15000,]\n",
        "\n",
        "errors = []\n",
        "for a in alpha:\n",
        "  for i in iter: \n",
        "    w = eval_model_l2(X_st, y, iterations=i, alpha=a)\n",
        "    errors.append(w[1])"
      ],
      "execution_count": 471,
      "outputs": []
    },
    {
      "cell_type": "code",
      "metadata": {
        "colab": {
          "base_uri": "https://localhost:8080/",
          "height": 283
        },
        "id": "VUX1PO_1eYwW",
        "outputId": "919d7e0d-f4cc-4fa3-c363-40aca05b6f84"
      },
      "source": [
        "plt.plot(errors)"
      ],
      "execution_count": 472,
      "outputs": [
        {
          "output_type": "execute_result",
          "data": {
            "text/plain": [
              "[<matplotlib.lines.Line2D at 0x7f5d334625d0>]"
            ]
          },
          "metadata": {},
          "execution_count": 472
        },
        {
          "output_type": "display_data",
          "data": {
            "image/png": "[encoded data removed]",
            "text/plain": [
              "<Figure size 432x288 with 1 Axes>"
            ]
          },
          "metadata": {
            "needs_background": "light"
          }
        }
      ]
    },
    {
      "cell_type": "code",
      "metadata": {
        "colab": {
          "base_uri": "https://localhost:8080/"
        },
        "id": "CZ5cTMnxeYwY",
        "outputId": "d54c8d8e-a3ef-44f0-b33c-351630637739"
      },
      "source": [
        "np.min(errors)"
      ],
      "execution_count": 473,
      "outputs": [
        {
          "output_type": "execute_result",
          "data": {
            "text/plain": [
              "0.37644053375046743"
            ]
          },
          "metadata": {},
          "execution_count": 473
        }
      ]
    }
  ]
}